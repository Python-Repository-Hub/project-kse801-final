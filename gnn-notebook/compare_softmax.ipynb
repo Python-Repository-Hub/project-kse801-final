{
 "cells": [
  {
   "cell_type": "code",
   "execution_count": 1,
   "source": [
    "import dgl \n",
    "from dgl.nn.pytorch.softmax import edge_softmax\n",
    "from dgl.data.utils import load_graphs"
   ],
   "outputs": [
    {
     "output_type": "stream",
     "name": "stderr",
     "text": [
      "Using backend: pytorch\n"
     ]
    }
   ],
   "metadata": {}
  },
  {
   "cell_type": "code",
   "execution_count": 2,
   "source": [
    "def ori_softmax(g, nf, ef):\n",
    "    device = nf.device\n",
    "    g.ndata['h'] = nf\n",
    "    g.edata['_'] = ef\n",
    "    g.edata['w'] = edge_softmax(g, g.edata['_'].to(device))\n",
    "\n",
    "    wh_func = dgl.function.e_mul_u('w', 'h', 'wh')  # 'Weight' x 'Hidden' -> 'Weighted hidden'\n",
    "    g.apply_edges(func=wh_func)\n",
    "    _ = g.ndata.pop('h')\n",
    "    _ = g.edata.pop('w')\n",
    "    _ = g.edata.pop('_')\n",
    "\n",
    "    sum_func = dgl.function.sum('m', 'sm')  # 'Weighted hidden' (multiple tensor) -> 'weighted sum' (one tensor)\n",
    "    g.update_all(message_func=dgl.function.copy_e('wh', 'm'), reduce_func=sum_func)\n",
    "    soft_max_nf = g.ndata.pop('sm')\n",
    "    return soft_max_nf"
   ],
   "outputs": [],
   "metadata": {}
  },
  {
   "cell_type": "code",
   "execution_count": 3,
   "source": [
    "def my_softmax(g, node_feature, edge_feature):\n",
    "    g.ndata['h'] = node_feature\n",
    "    g.edata['w'] = edge_softmax(g, edge_feature)\n",
    "    g.apply_edges(func=dgl.function.e_mul_u('w', 'h', 'wh'))\n",
    "    g.update_all(message_func=dgl.function.copy_e('wh', 'm'), reduce_func=dgl.function.sum('m', 'sum_m'))\n",
    "    softmax_node_feature = g.ndata['sum_m']\n",
    "    return softmax_node_feature"
   ],
   "outputs": [],
   "metadata": {}
  },
  {
   "cell_type": "code",
   "execution_count": 4,
   "source": [
    "data = load_graphs('../data/gsi2.bin')\n",
    "graph = data[0][0]"
   ],
   "outputs": [],
   "metadata": {}
  }
 ],
 "metadata": {
  "orig_nbformat": 4,
  "language_info": {
   "name": "python",
   "version": "3.8.10",
   "mimetype": "text/x-python",
   "codemirror_mode": {
    "name": "ipython",
    "version": 3
   },
   "pygments_lexer": "ipython3",
   "nbconvert_exporter": "python",
   "file_extension": ".py"
  },
  "kernelspec": {
   "name": "python3",
   "display_name": "Python 3.8.10 64-bit"
  },
  "interpreter": {
   "hash": "df0893f56f349688326838aaeea0de204df53a132722cbd565e54b24a8fec5f6"
  }
 },
 "nbformat": 4,
 "nbformat_minor": 2
}