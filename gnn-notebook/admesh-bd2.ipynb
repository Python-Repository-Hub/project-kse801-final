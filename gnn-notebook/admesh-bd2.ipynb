{
 "cells": [
  {
   "cell_type": "markdown",
   "id": "92a09690",
   "metadata": {},
   "source": [
    "# Packages and Functions"
   ]
  },
  {
   "cell_type": "code",
   "execution_count": 1,
   "id": "a1a354fe",
   "metadata": {},
   "outputs": [
    {
     "name": "stderr",
     "output_type": "stream",
     "text": [
      "Using backend: pytorch\n"
     ]
    }
   ],
   "source": [
    "import sys; sys.path.append('..')\n",
    "import dgl\n",
    "import torch\n",
    "import matplotlib\n",
    "import numpy as np\n",
    "import matplotlib.pyplot as plt\n",
    "from fenics import *\n",
    "from dolfin import *\n",
    "from mshr import *\n",
    "from mpl_toolkits.axes_grid1 import make_axes_locatable\n",
    "from dgl.data.utils import load_graphs\n",
    "from src.utils.to_dgl import fenics_to_graph as to_dgl\n",
    "from src.utils.gif import gif_generator"
   ]
  },
  {
   "cell_type": "code",
   "execution_count": 2,
   "id": "86bdeaf6",
   "metadata": {},
   "outputs": [],
   "source": [
    "def plot_graph(graph, vmin=0, vmax=1):\n",
    "    plt.figure(figsize=(11, 5))\n",
    "    plt.subplot(1, 2, 1)\n",
    "    x = graph.ndata['x'].view(-1).numpy()\n",
    "    y = graph.ndata['y'].view(-1).numpy()\n",
    "    value = graph.ndata['value'].view(-1).numpy()\n",
    "    # Plot Nodes\n",
    "    plt.scatter(x, y, value)\n",
    "    # Plot Edges\n",
    "    src, dst = graph.edges()\n",
    "    for i in range(len(dst)):\n",
    "        nodes_x = [x[src[i]], x[dst[i]]]\n",
    "        nodes_y = [y[src[i]], y[dst[i]]]\n",
    "        plt.plot(nodes_x, \n",
    "                 nodes_y, \n",
    "                 color='black', \n",
    "                 alpha=0.9, \n",
    "                 linewidth=0.6)\n",
    "    # Apply norm \n",
    "    norm = matplotlib.colors.Normalize(vmin=vmin, vmax=vmax)\n",
    "    # Mesh on plot or separated\n",
    "    cax = None\n",
    "    ax = plt.subplot(1, 2, 2)\n",
    "    fig = plt.tricontourf(x, y, value, levels=30, norm=norm)  \n",
    "    divider = make_axes_locatable(ax)\n",
    "    cax = divider.append_axes(\"right\", size=\"5%\", pad=0.05)\n",
    "    # Plot with interpolation\n",
    "    plt.colorbar(fig, cax=cax)"
   ]
  },
  {
   "cell_type": "code",
   "execution_count": 3,
   "id": "372fdacf",
   "metadata": {},
   "outputs": [],
   "source": [
    "def mark_boundary(graph):\n",
    "    error = 1e-2\n",
    "    graph.ndata['is_bdd'] = torch.zeros(graph.number_of_nodes(), 1)\n",
    "    for i in range(graph.number_of_nodes()):\n",
    "        if abs(graph.ndata['x'][i].item() - 2) < error or abs(graph.ndata['x'][i].item() + 2) < error or abs(graph.ndata['y'][i].item() - 2) < error or abs(graph.ndata['y'][i].item() + 2) < error:\n",
    "             graph.ndata['is_bdd'][i] = 1"
   ]
  },
  {
   "cell_type": "code",
   "execution_count": 4,
   "id": "515ec0f9",
   "metadata": {},
   "outputs": [],
   "source": [
    "def adaptive_graph(graph1, graph2, update_rate=0.5):\n",
    "    update_graph = graph1.clone()\n",
    "    update_graph.ndata['value'] = abs(graph2.ndata['value'] - graph1.ndata['value'])\n",
    "\n",
    "    mark_boundary(update_graph)\n",
    "    dist_threshold = 1e-1\n",
    "\n",
    "    vector_list = []\n",
    "    for i in range(update_graph.number_of_nodes()):\n",
    "        if update_graph.ndata['is_bdd'][i] > 0.5: \n",
    "            vector = torch.tensor([0, 0], dtype=torch.float)\n",
    "            vector_list.append(vector)\n",
    "            continue # Boundary Nodes\n",
    "\n",
    "        vector = torch.tensor([0, 0], dtype=torch.float)\n",
    "        _, neighbors = update_graph.out_edges([i])\n",
    "\n",
    "        for j in neighbors:\n",
    "            if update_graph.ndata['value'][j].item() < update_graph.ndata['value'][i].item():\n",
    "                continue # Update Smaller Than Src Node\n",
    "            dist = torch.sqrt((update_graph.ndata['x'][j] - update_graph.ndata['x'][i]) ** 2 + (update_graph.ndata['x'][i] - update_graph.ndata['x'][i]) ** 2)\n",
    "            if dist < dist_threshold:\n",
    "                continue # Two Nodes Too Close\n",
    "            diff = update_graph.ndata['value'][j].item() - update_graph.ndata['value'][i].item()\n",
    "            update_x = update_rate * (update_graph.ndata['x'][j] - update_graph.ndata['x'][i]) * diff / dist\n",
    "            update_y = update_rate * (update_graph.ndata['y'][j] - update_graph.ndata['y'][i]) * diff / dist\n",
    "            vector[0] += update_x\n",
    "            vector[1] += update_y\n",
    "\n",
    "        vector_list.append(vector)\n",
    "    \n",
    "    return vector_list"
   ]
  },
  {
   "cell_type": "code",
   "execution_count": 3,
   "id": "365fa9f3",
   "metadata": {},
   "outputs": [],
   "source": [
    "def solve_function(mesh): \n",
    "    x0=-2 \n",
    "    xn=2\n",
    "    y0=-2\n",
    "    yn=2\n",
    "    stop=1\n",
    "    steps=60\n",
    "    f='0'\n",
    "    # ud_top='sin(t)',\n",
    "    ud_top='1'\n",
    "    ud_bottom='0'\n",
    "    ud_left='1'\n",
    "    ud_right='0'\n",
    "    u0='0'\n",
    "    cell_size=3\n",
    "    tol=1e-2\n",
    "    dy=False\n",
    "    \n",
    "    function_space, bc = rectangle(x0, \n",
    "                                 xn, \n",
    "                                 y0, \n",
    "                                 yn, \n",
    "                                 ud_top, \n",
    "                                 ud_bottom, \n",
    "                                 ud_left, \n",
    "                                 ud_right,\n",
    "                                 cell_size,\n",
    "                                 tol,\n",
    "                                 mesh\n",
    "                                 )\n",
    "\n",
    "    dt = stop / steps  \n",
    "    u0 = Expression(u0, degree=2)\n",
    "    f = Expression(f, degree=2)\n",
    "    un = interpolate(u0, function_space)\n",
    "\n",
    "    u = TrialFunction(function_space)\n",
    "    v = TestFunction(function_space)\n",
    "    F = u * v * dx + dt * dot(grad(u), grad(v)) * dx - (un + dt * f) * v * dx\n",
    "    a, L = lhs(F), rhs(F)\n",
    "\n",
    "    u = Function(function_space)\n",
    "    t = 0\n",
    "    graphs = []\n",
    "    for _ in range(steps):\n",
    "        t += dt\n",
    "        if (dy):\n",
    "            _, _, bc = rectangle(x0,\n",
    "                              xn, \n",
    "                              y0, \n",
    "                              yn, \n",
    "                              ud_top, \n",
    "                              ud_bottom, \n",
    "                              ud_left,\n",
    "                              ud_right, \n",
    "                              cell_size, \n",
    "                              tol,\n",
    "                              t=t, \n",
    "                              ms=mesh,\n",
    "                              fs=function_space\n",
    "                              )\n",
    "        solve(a == L, u, bc)\n",
    "        un.assign(u)\n",
    "        graphs.append(to_dgl(function=u, mesh=mesh))\n",
    "    \n",
    "    return graphs"
   ]
  },
  {
   "cell_type": "code",
   "execution_count": 4,
   "id": "0f596447",
   "metadata": {},
   "outputs": [],
   "source": [
    "def rectangle(x0, \n",
    "              xn, \n",
    "              y0, \n",
    "              yn, \n",
    "              ud_top, \n",
    "              ud_bottom, \n",
    "              ud_left, \n",
    "              ud_right,\n",
    "              cell_size,\n",
    "              tol,\n",
    "              mesh,\n",
    "              t=-1, \n",
    "              ms=None,\n",
    "              fs=None):\n",
    "    function_space = FunctionSpace(mesh, 'P', 1)\n",
    "    \n",
    "    top = YBoundary(yn, tol)\n",
    "    bottom = YBoundary(y0, tol)\n",
    "    left = XBoundary(x0, tol)\n",
    "    right = XBoundary(xn, tol)\n",
    "\n",
    "    boundaries = MeshFunction('size_t', mesh, mesh.topology().dim()-1)\n",
    "    boundaries.set_all(0)\n",
    "    top.mark(boundaries, 1)\n",
    "    bottom.mark(boundaries, 2)\n",
    "    left.mark(boundaries, 3)\n",
    "    right.mark(boundaries, 4)\n",
    "    \n",
    "    if t >= 0:\n",
    "        ud_top = Expression(ud_top, degree=2, t=t)\n",
    "        ud_bottom = Expression(ud_bottom, degree=2, t=t)\n",
    "        ud_left = Expression(ud_left, degree=2, t=t)\n",
    "        ud_right = Expression(ud_right, degree=2, t=t)\n",
    "    else: \n",
    "        ud_top = Expression(ud_top, degree=2)\n",
    "        ud_bottom = Expression(ud_bottom, degree=2)\n",
    "        ud_left = Expression(ud_left, degree=2)\n",
    "        ud_right = Expression(ud_right, degree=2)\n",
    "    bc = []\n",
    "    bc.append(DirichletBC(function_space, ud_top, boundaries, 1))\n",
    "    bc.append(DirichletBC(function_space, ud_bottom, boundaries, 2))\n",
    "    bc.append(DirichletBC(function_space, ud_left, boundaries, 3))\n",
    "    bc.append(DirichletBC(function_space, ud_right, boundaries, 4))\n",
    "\n",
    "    return function_space, bc\n",
    "\n",
    "\n",
    "def boundary(x, on_boundary):\n",
    "    return on_boundary\n",
    "\n",
    "\n",
    "class CircleBoundary(SubDomain):\n",
    "    def __init__(self, x, y, r, tol):\n",
    "        SubDomain.__init__(self)\n",
    "        self.x = x\n",
    "        self.y = y\n",
    "        self.r = r\n",
    "        self.tol = tol\n",
    "    def inside(self, x, on_boundary):\n",
    "        flag = np.linalg.norm(x - [self.x, self.y])\n",
    "        return near(flag, self.r, self.tol)\n",
    "\n",
    "\n",
    "class XBoundary(SubDomain):\n",
    "    def __init__(self, value, tol):\n",
    "        SubDomain.__init__(self)\n",
    "        self.value = value\n",
    "        self.tol = tol\n",
    "    def inside(self, x, on_boundary):\n",
    "        return near(x[0], self.value, self.tol)\n",
    "\n",
    "\n",
    "class YBoundary(SubDomain):\n",
    "    def __init__(self, value, tol):\n",
    "        SubDomain.__init__(self)\n",
    "        self.value = value\n",
    "        self.tol = tol\n",
    "    def inside(self, x, on_boundary):\n",
    "        return near(x[1], self.value, self.tol) "
   ]
  },
  {
   "cell_type": "markdown",
   "id": "4a92ee8e",
   "metadata": {},
   "source": [
    "# Main Process"
   ]
  },
  {
   "cell_type": "code",
   "execution_count": 5,
   "id": "2071cd1a",
   "metadata": {},
   "outputs": [
    {
     "name": "stdout",
     "output_type": "stream",
     "text": [
      "50\n"
     ]
    }
   ],
   "source": [
    "# Load Data\n",
    "graph_list = load_graphs('../data/gsi2.bin')[0]\n",
    "print(len(graph_list))"
   ]
  },
  {
   "cell_type": "code",
   "execution_count": null,
   "id": "74b89bbd",
   "metadata": {},
   "outputs": [],
   "source": [
    "# Epoch Test\n",
    "mesh = generate_mesh(Rectangle(Point(-2, -2), Point(2, 2)), 4)\n",
    "mesh_list = []\n",
    "plot_graph_list = []\n",
    "adaptive_rate = 0.05\n",
    "steps = 60\n",
    "for epoch in range(steps):\n",
    "    graph_list = solve_function(mesh)\n",
    "    vector_list = adaptive_graph(graph_list[epoch], graph_list[epoch+1], adaptive_rate)\n",
    "    # mesh.coordinates() = mesh.coordinates() + vector_list\n",
    "    for i in range(mesh.coordinates().shape[0]):\n",
    "        mesh.coordinates()[i][0] += vector_list[i][0]\n",
    "        mesh.coordinates()[i][1] += vector_list[i][1]\n",
    "    plot_graph_list.append(graph_list[epoch])\n",
    "    mesh_list.append(mesh)\n",
    "    adaptive_rate += 0.05"
   ]
  },
  {
   "cell_type": "code",
   "execution_count": null,
   "id": "5913cf22",
   "metadata": {},
   "outputs": [],
   "source": [
    "# Plot Graphs\n",
    "len(plot_graph_list)\n",
    "for i in range(steps):\n",
    "    plot_graph(plot_graph_list[i], vmax=0.9)\n",
    "    plt.savefig(f'../fig/gaussian_side3/{i}.png')"
   ]
  },
  {
   "cell_type": "code",
   "execution_count": 17,
   "id": "3ad406c1",
   "metadata": {},
   "outputs": [
    {
     "name": "stderr",
     "output_type": "stream",
     "text": [
      "100%|██████████| 59/59 [00:01<00:00, 33.58it/s]\n"
     ]
    }
   ],
   "source": [
    "# Generate GIF\n",
    "gif_generator('../fig/gaussian_side3/', '../fig/gaussian_side3.gif')"
   ]
  },
  {
   "cell_type": "code",
   "execution_count": 10,
   "id": "1086182c",
   "metadata": {},
   "outputs": [
    {
     "data": {
      "text/plain": [
       "'1.00'"
      ]
     },
     "execution_count": 10,
     "metadata": {},
     "output_type": "execute_result"
    }
   ],
   "source": [
    "str(format(1, '.2f'))"
   ]
  },
  {
   "cell_type": "markdown",
   "id": "746d702f",
   "metadata": {
    "tags": []
   },
   "source": [
    "# Trash Bin"
   ]
  },
  {
   "cell_type": "code",
   "execution_count": null,
   "id": "a49dd385-6079-4bef-aebe-668217ec489f",
   "metadata": {},
   "outputs": [],
   "source": [
    "mesh = generate_mesh(Rectangle(Point(-2, -2), Point(2, 2)), 4)\n",
    "graph_list = solve_function(mesh)"
   ]
  },
  {
   "cell_type": "code",
   "execution_count": null,
   "id": "99c20964-3e67-4614-8590-b0812ae3f05b",
   "metadata": {},
   "outputs": [],
   "source": [
    "len(graph_list)\n",
    "for i in range(len(graph_list)):\n",
    "    plot_graph(graph_list[i], vmax=0.9)\n",
    "    plt.savefig(f'../fig/gaussian_side3_noadmesh/{i}.png')"
   ]
  },
  {
   "cell_type": "code",
   "execution_count": 9,
   "id": "9c55b8ab-f7f5-4cd5-88b4-d473e313e9c7",
   "metadata": {
    "tags": []
   },
   "outputs": [
    {
     "name": "stderr",
     "output_type": "stream",
     "text": [
      "100%|███████████████████████████████████████████| 60/60 [00:01<00:00, 33.75it/s]\n"
     ]
    }
   ],
   "source": [
    "gif_generator('../fig/gaussian_side3_noadmesh/', '../fig/gaussian_side3_noadmesh.gif')"
   ]
  },
  {
   "cell_type": "code",
   "execution_count": 23,
   "id": "9bc54279",
   "metadata": {},
   "outputs": [
    {
     "name": "stdout",
     "output_type": "stream",
     "text": [
      "Solving linear variational problem.\n",
      "Solving linear variational problem.\n",
      "Solving linear variational problem.\n",
      "Solving linear variational problem.\n",
      "Solving linear variational problem.\n",
      "Solving linear variational problem.\n",
      "Solving linear variational problem.\n",
      "Solving linear variational problem.\n",
      "Solving linear variational problem.\n",
      "Solving linear variational problem.\n",
      "Solving linear variational problem.\n",
      "Solving linear variational problem.\n",
      "Solving linear variational problem.\n",
      "Solving linear variational problem.\n",
      "Solving linear variational problem.\n",
      "Solving linear variational problem.\n",
      "Solving linear variational problem.\n",
      "Solving linear variational problem.\n",
      "Solving linear variational problem.\n",
      "Solving linear variational problem.\n",
      "Solving linear variational problem.\n",
      "Solving linear variational problem.\n",
      "Solving linear variational problem.\n",
      "Solving linear variational problem.\n",
      "Solving linear variational problem.\n",
      "Solving linear variational problem.\n",
      "Solving linear variational problem.\n",
      "Solving linear variational problem.\n",
      "Solving linear variational problem.\n",
      "Solving linear variational problem.\n",
      "Solving linear variational problem.\n",
      "Solving linear variational problem.\n",
      "Solving linear variational problem.\n",
      "Solving linear variational problem.\n",
      "Solving linear variational problem.\n"
     ]
    },
    {
     "name": "stderr",
     "output_type": "stream",
     "text": [
      "/home/cbhua/.local/lib/python3.9/site-packages/dgl/base.py:45: DGLWarning: Recommend creating graphs by `dgl.graph(data)` instead of `dgl.DGLGraph(data)`.\n",
      "  return warnings.warn(message, category=category, stacklevel=1)\n"
     ]
    },
    {
     "name": "stdout",
     "output_type": "stream",
     "text": [
      "Solving linear variational problem.\n",
      "Solving linear variational problem.\n",
      "Solving linear variational problem.\n",
      "Solving linear variational problem.\n",
      "Solving linear variational problem.\n",
      "Solving linear variational problem.\n",
      "Solving linear variational problem.\n",
      "Solving linear variational problem.\n",
      "Solving linear variational problem.\n",
      "Solving linear variational problem.\n",
      "Solving linear variational problem.\n",
      "Solving linear variational problem.\n",
      "Solving linear variational problem.\n",
      "Solving linear variational problem.\n",
      "Solving linear variational problem.\n",
      "Solving linear variational problem.\n",
      "Solving linear variational problem.\n",
      "Solving linear variational problem.\n",
      "Solving linear variational problem.\n",
      "Solving linear variational problem.\n",
      "Solving linear variational problem.\n",
      "Solving linear variational problem.\n",
      "Solving linear variational problem.\n",
      "Solving linear variational problem.\n",
      "Solving linear variational problem.\n"
     ]
    }
   ],
   "source": [
    "x0=-2 \n",
    "xn=2\n",
    "y0=-2\n",
    "yn=2\n",
    "stop=1\n",
    "steps=60\n",
    "f='0'\n",
    "# ud_top='sin(t)',\n",
    "ud_top='1'\n",
    "ud_bottom='0'\n",
    "ud_left='0'\n",
    "ud_right='0'\n",
    "u0='0'\n",
    "cell_size=5\n",
    "tol=1e-2\n",
    "dy=False\n",
    "\n",
    "\n",
    "if (dy):\n",
    "    mesh, function_space, bc = rectangle(x0,\n",
    "                                         xn, \n",
    "                                         y0, \n",
    "                                         yn, \n",
    "                                         ud_top, \n",
    "                                         ud_bottom, \n",
    "                                         ud_left,\n",
    "                                         ud_right, \n",
    "                                         cell_size, \n",
    "                                         tol,\n",
    "                                         mesh,\n",
    "                                         t=0 \n",
    "                                         )\n",
    "else:\n",
    "    mesh, function_space, bc = rectangle(x0, \n",
    "                                         xn, \n",
    "                                         y0, \n",
    "                                         yn, \n",
    "                                         ud_top, \n",
    "                                         ud_bottom, \n",
    "                                         ud_left, \n",
    "                                         ud_right,\n",
    "                                         cell_size,\n",
    "                                         tol,\n",
    "                                         mesh\n",
    "                                         )\n",
    "dt = stop / steps  \n",
    "u0 = Expression(u0, degree=2)\n",
    "f = Expression(f, degree=2)\n",
    "un = interpolate(u0, function_space)\n",
    "\n",
    "u = TrialFunction(function_space)\n",
    "v = TestFunction(function_space)\n",
    "F = u * v * dx + dt * dot(grad(u), grad(v)) * dx - (un + dt * f) * v * dx\n",
    "a, L = lhs(F), rhs(F)\n",
    "\n",
    "u = Function(function_space)\n",
    "t = 0\n",
    "graphs = []\n",
    "for _ in range(steps):\n",
    "    t += dt\n",
    "    if (dy):\n",
    "        _, _, bc = rectangle(x0,\n",
    "                          xn, \n",
    "                          y0, \n",
    "                          yn, \n",
    "                          ud_top, \n",
    "                          ud_bottom, \n",
    "                          ud_left,\n",
    "                          ud_right, \n",
    "                          cell_size, \n",
    "                          tol,\n",
    "                          t=t, \n",
    "                          ms=mesh,\n",
    "                          fs=function_space\n",
    "                          )\n",
    "    solve(a == L, u, bc)\n",
    "    un.assign(u)\n",
    "    graphs.append(to_dgl(function=u, mesh=mesh))"
   ]
  }
 ],
 "metadata": {
  "interpreter": {
   "hash": "d464cb7600c0b7fca025839189f39bdffe3e59c6d773a4897b6a34c2c4937b3b"
  },
  "kernelspec": {
   "display_name": "conda-py9",
   "language": "python",
   "name": "conda-py9"
  },
  "language_info": {
   "codemirror_mode": {
    "name": "ipython",
    "version": 3
   },
   "file_extension": ".py",
   "mimetype": "text/x-python",
   "name": "python",
   "nbconvert_exporter": "python",
   "pygments_lexer": "ipython3",
   "version": "3.9.6"
  }
 },
 "nbformat": 4,
 "nbformat_minor": 5
}
