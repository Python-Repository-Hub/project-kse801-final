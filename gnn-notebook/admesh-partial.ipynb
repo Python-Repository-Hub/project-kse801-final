{
 "cells": [
  {
   "cell_type": "markdown",
   "id": "1630a1c8",
   "metadata": {},
   "source": [
    "# Packages and Functions"
   ]
  },
  {
   "cell_type": "code",
   "execution_count": 1,
   "id": "ae472656",
   "metadata": {},
   "outputs": [
    {
     "name": "stderr",
     "output_type": "stream",
     "text": [
      "Using backend: pytorch\n"
     ]
    }
   ],
   "source": [
    "import sys; sys.path.append('..')\n",
    "import dgl\n",
    "import torch\n",
    "import matplotlib\n",
    "import numpy as np\n",
    "import matplotlib.pyplot as plt\n",
    "from fenics import *\n",
    "from dolfin import *\n",
    "from mshr import *\n",
    "from mpl_toolkits.axes_grid1 import make_axes_locatable\n",
    "from dgl.data.utils import load_graphs\n",
    "from src.utils.to_dgl import fenics_to_graph as to_dgl\n",
    "from src.utils.gif import gif_generator"
   ]
  },
  {
   "cell_type": "code",
   "execution_count": 2,
   "id": "6bfdb506",
   "metadata": {},
   "outputs": [],
   "source": [
    "def plot_graph(graph, vmin=0, vmax=1):\n",
    "    plt.figure(figsize=(11, 5))\n",
    "    plt.subplot(1, 2, 1)\n",
    "    x = graph.ndata['x'].view(-1).numpy()\n",
    "    y = graph.ndata['y'].view(-1).numpy()\n",
    "    value = graph.ndata['value'].view(-1).numpy()\n",
    "    # Plot Nodes\n",
    "    plt.scatter(x, y, value)\n",
    "    # Plot Edges\n",
    "    src, dst = graph.edges()\n",
    "    for i in range(len(dst)):\n",
    "        nodes_x = [x[src[i]], x[dst[i]]]\n",
    "        nodes_y = [y[src[i]], y[dst[i]]]\n",
    "        plt.plot(nodes_x, \n",
    "                 nodes_y, \n",
    "                 color='black', \n",
    "                 alpha=0.9, \n",
    "                 linewidth=0.6)\n",
    "    # Apply norm \n",
    "    norm = matplotlib.colors.Normalize(vmin=vmin, vmax=vmax)\n",
    "    # Mesh on plot or separated\n",
    "    cax = None\n",
    "    ax = plt.subplot(1, 2, 2)\n",
    "    fig = plt.tricontourf(x, y, value, levels=30, norm=norm)  \n",
    "    divider = make_axes_locatable(ax)\n",
    "    cax = divider.append_axes(\"right\", size=\"5%\", pad=0.05)\n",
    "    # Plot with interpolation\n",
    "    plt.colorbar(fig, cax=cax)"
   ]
  },
  {
   "cell_type": "code",
   "execution_count": 12,
   "id": "afce7819",
   "metadata": {},
   "outputs": [],
   "source": [
    "def mark_boundary(graph):\n",
    "    error = 1e-2\n",
    "    graph.ndata['is_bdd'] = torch.zeros(graph.number_of_nodes(), 1)\n",
    "    for i in range(graph.number_of_nodes()):\n",
    "        if abs(graph.ndata['x'][i].item() - 3) < error or abs(graph.ndata['x'][i].item() + 1) < error or abs(graph.ndata['y'][i].item() - 3) < error or abs(graph.ndata['y'][i].item() + 1) < error:\n",
    "             graph.ndata['is_bdd'][i] = 1"
   ]
  },
  {
   "cell_type": "code",
   "execution_count": 4,
   "id": "5a5d167a",
   "metadata": {},
   "outputs": [],
   "source": [
    "def adaptive_graph(graph1, graph2, update_rate=0.5):\n",
    "    update_graph = graph1.clone()\n",
    "    update_graph.ndata['value'] = abs(graph2.ndata['value'] - graph1.ndata['value'])\n",
    "\n",
    "    mark_boundary(update_graph)\n",
    "    dist_threshold = 1e-1\n",
    "\n",
    "    vector_list = []\n",
    "    for i in range(update_graph.number_of_nodes()):\n",
    "        if update_graph.ndata['is_bdd'][i] > 0.5: \n",
    "            vector = torch.tensor([0, 0], dtype=torch.float)\n",
    "            vector_list.append(vector)\n",
    "            continue # Boundary Nodes\n",
    "\n",
    "        vector = torch.tensor([0, 0], dtype=torch.float)\n",
    "        _, neighbors = update_graph.out_edges([i])\n",
    "\n",
    "        for j in neighbors:\n",
    "            if update_graph.ndata['value'][j].item() < update_graph.ndata['value'][i].item():\n",
    "                continue # Update Smaller Than Src Node\n",
    "            dist = torch.sqrt((update_graph.ndata['x'][j] - update_graph.ndata['x'][i]) ** 2 + (update_graph.ndata['x'][i] - update_graph.ndata['x'][i]) ** 2)\n",
    "            if dist < dist_threshold:\n",
    "                continue # Two Nodes Too Close\n",
    "            diff = update_graph.ndata['value'][j].item() - update_graph.ndata['value'][i].item()\n",
    "            update_x = update_rate * (update_graph.ndata['x'][j] - update_graph.ndata['x'][i]) * diff / dist\n",
    "            update_y = update_rate * (update_graph.ndata['y'][j] - update_graph.ndata['y'][i]) * diff / dist\n",
    "            vector[0] += update_x\n",
    "            vector[1] += update_y\n",
    "\n",
    "        vector_list.append(vector)\n",
    "    \n",
    "    return vector_list"
   ]
  },
  {
   "cell_type": "code",
   "execution_count": 5,
   "id": "18c7f03d",
   "metadata": {},
   "outputs": [],
   "source": [
    "def solve_function(mesh):\n",
    "    start = 0\n",
    "    stop = 1\n",
    "    step = 60\n",
    "    dt = stop/step\n",
    "    function_space = FunctionSpace(mesh, 'P', 1)\n",
    "\n",
    "    u0 = Expression('exp(-1*pow(x[0],2)-1*pow(x[1],2))', degree=2)\n",
    "    ud = Expression('0', degree=2)\n",
    "    f = Expression('0', degree=2)\n",
    "\n",
    "    def boundary(x, on_boundary):\n",
    "        return on_boundary\n",
    "\n",
    "    bc = DirichletBC(function_space, ud, boundary)\n",
    "    un = interpolate(u0, function_space)\n",
    "\n",
    "    u = TrialFunction(function_space)\n",
    "    v = TestFunction(function_space)\n",
    "    F = u * v * dx + dt * dot(grad(u), grad(v)) * dx - (un + dt * f) * v * dx\n",
    "    a, L = lhs(F), rhs(F)\n",
    "\n",
    "    u = Function(function_space)\n",
    "    t = 0\n",
    "    graphs = []\n",
    "    for _ in range(step):\n",
    "        t += dt\n",
    "        solve(a == L, u, bc)\n",
    "        un.assign(u)\n",
    "        graphs.append(to_dgl(function=u, mesh=mesh))\n",
    "    \n",
    "    return graphs"
   ]
  },
  {
   "cell_type": "markdown",
   "id": "2826b66d",
   "metadata": {},
   "source": [
    "# Main Process"
   ]
  },
  {
   "cell_type": "code",
   "execution_count": 6,
   "id": "031b1381",
   "metadata": {},
   "outputs": [
    {
     "name": "stdout",
     "output_type": "stream",
     "text": [
      "50\n"
     ]
    }
   ],
   "source": [
    "# Load Data\n",
    "graph_list = load_graphs('../data/gsi2.bin')[0]\n",
    "print(len(graph_list))"
   ]
  },
  {
   "cell_type": "code",
   "execution_count": null,
   "id": "a5f2b8a2",
   "metadata": {},
   "outputs": [],
   "source": [
    "# Epoch Test\n",
    "mesh = generate_mesh(Rectangle(Point(-1, -1), Point(3, 3)), 4)\n",
    "mesh_list = []\n",
    "plot_graph_list = []\n",
    "adaptive_rate = 0.1\n",
    "steps = 60\n",
    "for epoch in range(steps):\n",
    "    graph_list = solve_function(mesh)\n",
    "    vector_list = adaptive_graph(graph_list[epoch], graph_list[epoch+1], adaptive_rate)\n",
    "    # mesh.coordinates() = mesh.coordinates() + vector_list\n",
    "    for i in range(mesh.coordinates().shape[0]):\n",
    "        mesh.coordinates()[i][0] += vector_list[i][0]\n",
    "        mesh.coordinates()[i][1] += vector_list[i][1]\n",
    "    plot_graph_list.append(graph_list[epoch])\n",
    "    mesh_list.append(mesh)\n",
    "    adaptive_rate += 0.1"
   ]
  },
  {
   "cell_type": "code",
   "execution_count": 15,
   "id": "04b17bd9",
   "metadata": {},
   "outputs": [
    {
     "data": {
      "text/plain": [
       "58"
      ]
     },
     "execution_count": 15,
     "metadata": {},
     "output_type": "execute_result"
    }
   ],
   "source": [
    "len(plot_graph_list)"
   ]
  },
  {
   "cell_type": "code",
   "execution_count": null,
   "id": "06efdc6f",
   "metadata": {},
   "outputs": [],
   "source": [
    "# Plot Graphs\n",
    "len(plot_graph_list)\n",
    "for i in range(steps):\n",
    "    plot_graph(plot_graph_list[i], vmax=0.9)\n",
    "    plt.savefig(f'../fig/gaussian_partial/{i}.png')"
   ]
  },
  {
   "cell_type": "code",
   "execution_count": 16,
   "id": "8e3579a5",
   "metadata": {},
   "outputs": [
    {
     "name": "stderr",
     "output_type": "stream",
     "text": [
      "100%|██████████| 58/58 [00:01<00:00, 35.03it/s]\n"
     ]
    }
   ],
   "source": [
    "# Generate GIF\n",
    "gif_generator('../fig/gaussian_partial/', '../fig/gaussian_partial.gif')"
   ]
  },
  {
   "cell_type": "code",
   "execution_count": 10,
   "id": "a4a9e29d",
   "metadata": {},
   "outputs": [
    {
     "data": {
      "text/plain": [
       "'1.00'"
      ]
     },
     "execution_count": 10,
     "metadata": {},
     "output_type": "execute_result"
    }
   ],
   "source": [
    "str(format(1, '.2f'))"
   ]
  }
 ],
 "metadata": {
  "interpreter": {
   "hash": "d464cb7600c0b7fca025839189f39bdffe3e59c6d773a4897b6a34c2c4937b3b"
  },
  "kernelspec": {
   "display_name": "Python 3 (ipykernel)",
   "language": "python",
   "name": "python3"
  },
  "language_info": {
   "codemirror_mode": {
    "name": "ipython",
    "version": 3
   },
   "file_extension": ".py",
   "mimetype": "text/x-python",
   "name": "python",
   "nbconvert_exporter": "python",
   "pygments_lexer": "ipython3",
   "version": "3.9.6"
  }
 },
 "nbformat": 4,
 "nbformat_minor": 5
}
