{
 "cells": [
  {
   "cell_type": "code",
   "execution_count": null,
   "source": [
    "import torch\n",
    "from dgl.data.utils import load_graphs\n",
    "import torch.nn as nn"
   ],
   "outputs": [],
   "metadata": {}
  },
  {
   "cell_type": "markdown",
   "source": [
    "# Original Model"
   ],
   "metadata": {}
  },
  {
   "cell_type": "code",
   "execution_count": null,
   "source": [
    "edge_update = nn.Sequential(\n",
    "    nn.Linear(3, 64),\n",
    "    nn.ReLU(),\n",
    "    nn.Linear(64, 64),\n",
    "    nn.ReLU(),\n",
    "    nn.Linear(64, 1),\n",
    "    nn.ReLU()\n",
    ")"
   ],
   "outputs": [],
   "metadata": {}
  },
  {
   "cell_type": "code",
   "execution_count": null,
   "source": [
    "def ori_edge_update(edges):\n",
    "    sender_nf = edges.src['h']\n",
    "    receiver_nf = edges.dst['h']\n",
    "    ef = edges.data['h']\n",
    "    em_input = torch.cat([ef, sender_nf, receiver_nf], dim=-1)\n",
    "    updated_ef = edge_update(em_input)\n",
    "    return {'h': updated_ef}"
   ],
   "outputs": [],
   "metadata": {}
  },
  {
   "cell_type": "markdown",
   "source": [
    "# My Model"
   ],
   "metadata": {}
  },
  {
   "cell_type": "code",
   "execution_count": null,
   "source": [
    "def my_edge_update(edges):\n",
    "    src_node_feature = edges.src['h']\n",
    "    dis_node_feature = edges.dst['h']\n",
    "    edge_feature = edges.data['h']\n",
    "    edge_model_input = torch.cat([edge_feature, src_node_feature, dis_node_feature], dim=-1)\n",
    "    updated_edge_feature = edge_update(edge_model_input)\n",
    "    return {'h': updated_edge_feature}"
   ],
   "outputs": [],
   "metadata": {}
  },
  {
   "cell_type": "code",
   "execution_count": null,
   "source": [
    "data = load_graphs('../data/gsi2.bin')\n",
    "graph1 = data[0][0]\n",
    "graph2 = data[0][0]\n",
    "graph1.ndata['h'] = graph1.ndata['value']\n",
    "graph1.edata['h'] = graph1.edata['feat']\n",
    "graph2.ndata['h'] = graph2.ndata['value']\n",
    "graph2.edata['h'] = graph2.edata['feat']"
   ],
   "outputs": [],
   "metadata": {}
  },
  {
   "cell_type": "code",
   "execution_count": null,
   "source": [
    "graph1.apply_edges(func=ori_edge_update)\n",
    "graph2.apply_edges(func=my_edge_update)"
   ],
   "outputs": [],
   "metadata": {}
  },
  {
   "cell_type": "code",
   "execution_count": null,
   "source": [
    "print(graph1.edata['h'])"
   ],
   "outputs": [],
   "metadata": {}
  },
  {
   "cell_type": "code",
   "execution_count": null,
   "source": [
    "print(graph2.edata['h'])"
   ],
   "outputs": [],
   "metadata": {}
  }
 ],
 "metadata": {
  "orig_nbformat": 4,
  "language_info": {
   "name": "python",
   "version": "3.8.10",
   "mimetype": "text/x-python",
   "codemirror_mode": {
    "name": "ipython",
    "version": 3
   },
   "pygments_lexer": "ipython3",
   "nbconvert_exporter": "python",
   "file_extension": ".py"
  },
  "kernelspec": {
   "name": "python3",
   "display_name": "Python 3.8.10 64-bit"
  },
  "interpreter": {
   "hash": "df0893f56f349688326838aaeea0de204df53a132722cbd565e54b24a8fec5f6"
  }
 },
 "nbformat": 4,
 "nbformat_minor": 2
}