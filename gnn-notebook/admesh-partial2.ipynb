{
 "cells": [
  {
   "cell_type": "markdown",
   "id": "f2151ea3",
   "metadata": {
    "tags": []
   },
   "source": [
    "# Packages and Plot Function"
   ]
  },
  {
   "cell_type": "code",
   "execution_count": 1,
   "id": "7566616c",
   "metadata": {
    "tags": []
   },
   "outputs": [
    {
     "name": "stderr",
     "output_type": "stream",
     "text": [
      "Using backend: pytorch\n"
     ]
    }
   ],
   "source": [
    "import sys; sys.path.append('..')\n",
    "import dgl\n",
    "import torch\n",
    "import matplotlib\n",
    "import numpy as np\n",
    "import matplotlib.pyplot as plt\n",
    "from fenics import *\n",
    "from dolfin import *\n",
    "from mshr import *\n",
    "from mpl_toolkits.axes_grid1 import make_axes_locatable\n",
    "from dgl.data.utils import load_graphs\n",
    "from src.utils.to_dgl import fenics_to_graph as to_dgl\n",
    "from src.utils.gif import gif_generator\n",
    "\n",
    "\n",
    "def plot_graph(graph):\n",
    "    plt.figure(figsize=(11, 5))\n",
    "    plt.subplot(1, 2, 1)\n",
    "    x = graph.ndata['coords'][:, 0].view(-1).numpy()\n",
    "    y = graph.ndata['coords'][:, 1].view(-1).numpy()\n",
    "    value = graph.ndata['value'].view(-1).numpy()\n",
    "    # Plot Nodes\n",
    "    plt.scatter(x, y, value)\n",
    "    # Plot Edges\n",
    "    src, dst = graph.edges()\n",
    "    for i in range(len(dst)):\n",
    "        nodes_x = [x[src[i]], x[dst[i]]]\n",
    "        nodes_y = [y[src[i]], y[dst[i]]]\n",
    "        plt.plot(nodes_x, \n",
    "                 nodes_y, \n",
    "                 color='black', \n",
    "                 alpha=0.9, \n",
    "                 linewidth=0.6)\n",
    "    # Apply norm \n",
    "    norm = None\n",
    "    # Mesh on plot or separated\n",
    "    cax = None\n",
    "    ax = plt.subplot(1, 2, 2)\n",
    "    fig = plt.tricontourf(x, y, value, levels=30, norm=norm)  \n",
    "    divider = make_axes_locatable(ax)\n",
    "    cax = divider.append_axes(\"right\", size=\"5%\", pad=0.05)\n",
    "    # Plot with interpolation\n",
    "    plt.colorbar(fig, cax=cax)\n",
    "    \n",
    "\n",
    "def plot_graph_original(graph, vmin=0, vmax=1):\n",
    "    plt.figure(figsize=(11, 5))\n",
    "    plt.subplot(1, 2, 1)\n",
    "    x = graph.ndata['x'].view(-1).numpy()\n",
    "    y = graph.ndata['y'].view(-1).numpy()\n",
    "    value = graph.ndata['value'].view(-1).numpy()\n",
    "    # Plot Nodes\n",
    "    plt.scatter(x, y, value)\n",
    "    # Plot Edges\n",
    "    src, dst = graph.edges()\n",
    "    for i in range(len(dst)):\n",
    "        nodes_x = [x[src[i]], x[dst[i]]]\n",
    "        nodes_y = [y[src[i]], y[dst[i]]]\n",
    "        plt.plot(nodes_x, \n",
    "                 nodes_y, \n",
    "                 color='black', \n",
    "                 alpha=0.9, \n",
    "                 linewidth=0.6)\n",
    "    # Apply norm \n",
    "    norm = matplotlib.colors.Normalize(vmin=vmin, vmax=vmax)\n",
    "    # Mesh on plot or separated\n",
    "    cax = None\n",
    "    ax = plt.subplot(1, 2, 2)\n",
    "    fig = plt.tricontourf(x, y, value, levels=30, norm=norm)  \n",
    "    divider = make_axes_locatable(ax)\n",
    "    cax = divider.append_axes(\"right\", size=\"5%\", pad=0.05)\n",
    "    # Plot with interpolation\n",
    "    plt.colorbar(fig, cax=cax)\n",
    "    \n",
    "    \n",
    "def mark_boundary(graph):\n",
    "    error = 1e-2\n",
    "    coords = graph.ndata['coords']\n",
    "    for i in range(graph.number_of_nodes()):\n",
    "        if abs(coords[i][0] - 2) < error or abs(coords[i][0] + 2) < error or abs(coords[i][1] - 2) < error or abs(coords[i][1] + 2) < error:\n",
    "             graph.ndata['is_bdd'][i] = 1\n",
    "                \n",
    "def mark_boundary_original(graph):\n",
    "    error = 1e-2\n",
    "    graph.ndata['is_bdd'] = torch.zeros(graph.number_of_nodes(), 1)\n",
    "    for i in range(graph.number_of_nodes()):\n",
    "        if abs(graph.ndata['x'][i].item() - 2) < error or abs(graph.ndata['x'][i].item() + 2) < error or abs(graph.ndata['y'][i].item() - 2) < error or abs(graph.ndata['y'][i].item() + 2) < error:\n",
    "             graph.ndata['is_bdd'][i] = 1"
   ]
  },
  {
   "cell_type": "code",
   "execution_count": 2,
   "id": "65fb9a20",
   "metadata": {},
   "outputs": [
    {
     "name": "stdout",
     "output_type": "stream",
     "text": [
      "50\n"
     ]
    }
   ],
   "source": [
    "graph_list = load_graphs('../data/gsi2.bin')[0]\n",
    "print(len(graph_list))"
   ]
  },
  {
   "cell_type": "markdown",
   "id": "1de91813",
   "metadata": {},
   "source": [
    "# Update Graph"
   ]
  },
  {
   "cell_type": "code",
   "execution_count": 3,
   "id": "6f859d6e-8361-4233-aa5a-2b71cdabbc43",
   "metadata": {},
   "outputs": [],
   "source": [
    "def adaptive_graph(graph1, graph2, update_rate=0.5):\n",
    "    update_graph = graph1.clone()\n",
    "    update_graph.ndata['value'] = abs(graph2.ndata['value'] - graph1.ndata['value'])\n",
    "\n",
    "    mark_boundary_original(update_graph)\n",
    "    dist_threshold = 1e-1\n",
    "\n",
    "    vector_list = []\n",
    "    for i in range(update_graph.number_of_nodes()):\n",
    "        if update_graph.ndata['is_bdd'][i] > 0.5: \n",
    "            vector = torch.tensor([0, 0], dtype=torch.float)\n",
    "            vector_list.append(vector)\n",
    "            continue # Boundary Nodes\n",
    "\n",
    "        vector = torch.tensor([0, 0], dtype=torch.float)\n",
    "        _, neighbors = update_graph.out_edges([i])\n",
    "\n",
    "        for j in neighbors:\n",
    "            if update_graph.ndata['value'][j].item() < update_graph.ndata['value'][i].item():\n",
    "                continue # Update Smaller Than Src Node\n",
    "            dist = torch.sqrt((update_graph.ndata['x'][j] - update_graph.ndata['x'][i]) ** 2 + (update_graph.ndata['x'][i] - update_graph.ndata['x'][i]) ** 2)\n",
    "            if dist < dist_threshold:\n",
    "                continue # Two Nodes Too Close\n",
    "            diff = update_graph.ndata['value'][j].item() - update_graph.ndata['value'][i].item()\n",
    "            update_x = update_rate * (update_graph.ndata['x'][j] - update_graph.ndata['x'][i]) * diff / dist\n",
    "            update_y = update_rate * (update_graph.ndata['y'][j] - update_graph.ndata['y'][i]) * diff / dist\n",
    "            vector[0] += update_x\n",
    "            vector[1] += update_y\n",
    "\n",
    "        vector_list.append(vector)\n",
    "    \n",
    "    return vector_list"
   ]
  },
  {
   "cell_type": "code",
   "execution_count": 4,
   "id": "c32930bd-59ca-4438-9c08-ab7b205738fe",
   "metadata": {},
   "outputs": [],
   "source": [
    "def solve_function(mesh):\n",
    "    start = 0\n",
    "    stop = 1\n",
    "    step = 60\n",
    "    dt = stop/step\n",
    "    function_space = FunctionSpace(mesh, 'P', 1)\n",
    "\n",
    "    u0 = Expression('exp(-1*pow(x[0]+2,2)-1*pow(x[1]+2,2))', degree=2)\n",
    "    ud = Expression('0', degree=2)\n",
    "    f = Expression('0', degree=2)\n",
    "\n",
    "    def boundary(x, on_boundary):\n",
    "        return on_boundary\n",
    "\n",
    "    bc = DirichletBC(function_space, ud, boundary)\n",
    "    un = interpolate(u0, function_space)\n",
    "\n",
    "    u = TrialFunction(function_space)\n",
    "    v = TestFunction(function_space)\n",
    "    F = u * v * dx + dt * dot(grad(u), grad(v)) * dx - (un + dt * f) * v * dx\n",
    "    a, L = lhs(F), rhs(F)\n",
    "\n",
    "    u = Function(function_space)\n",
    "    t = 0\n",
    "    graphs = []\n",
    "    for _ in range(step):\n",
    "        t += dt\n",
    "        solve(a == L, u, bc)\n",
    "        un.assign(u)\n",
    "        graphs.append(to_dgl(function=u, mesh=mesh))\n",
    "    \n",
    "    return graphs"
   ]
  },
  {
   "cell_type": "code",
   "execution_count": 5,
   "id": "a2cd73f9-7ca6-4b32-82da-6489cbef2638",
   "metadata": {},
   "outputs": [
    {
     "ename": "RuntimeError",
     "evalue": "Invalid parameter: form_compiler",
     "output_type": "error",
     "traceback": [
      "\u001b[0;31m---------------------------------------------------------------------------\u001b[0m",
      "\u001b[0;31mRuntimeError\u001b[0m                              Traceback (most recent call last)",
      "\u001b[0;32m/tmp/ipykernel_944777/2274656045.py\u001b[0m in \u001b[0;36m<module>\u001b[0;34m\u001b[0m\n\u001b[1;32m      6\u001b[0m \u001b[0msteps\u001b[0m \u001b[0;34m=\u001b[0m \u001b[0;36m60\u001b[0m\u001b[0;34m\u001b[0m\u001b[0;34m\u001b[0m\u001b[0m\n\u001b[1;32m      7\u001b[0m \u001b[0;32mfor\u001b[0m \u001b[0mepoch\u001b[0m \u001b[0;32min\u001b[0m \u001b[0mrange\u001b[0m\u001b[0;34m(\u001b[0m\u001b[0msteps\u001b[0m\u001b[0;34m)\u001b[0m\u001b[0;34m:\u001b[0m\u001b[0;34m\u001b[0m\u001b[0;34m\u001b[0m\u001b[0m\n\u001b[0;32m----> 8\u001b[0;31m     \u001b[0mgraph_list\u001b[0m \u001b[0;34m=\u001b[0m \u001b[0msolve_function\u001b[0m\u001b[0;34m(\u001b[0m\u001b[0mmesh\u001b[0m\u001b[0;34m)\u001b[0m\u001b[0;34m\u001b[0m\u001b[0;34m\u001b[0m\u001b[0m\n\u001b[0m\u001b[1;32m      9\u001b[0m     \u001b[0mvector_list\u001b[0m \u001b[0;34m=\u001b[0m \u001b[0madaptive_graph\u001b[0m\u001b[0;34m(\u001b[0m\u001b[0mgraph_list\u001b[0m\u001b[0;34m[\u001b[0m\u001b[0mepoch\u001b[0m\u001b[0;34m]\u001b[0m\u001b[0;34m,\u001b[0m \u001b[0mgraph_list\u001b[0m\u001b[0;34m[\u001b[0m\u001b[0mepoch\u001b[0m\u001b[0;34m+\u001b[0m\u001b[0;36m1\u001b[0m\u001b[0;34m]\u001b[0m\u001b[0;34m,\u001b[0m \u001b[0madaptive_rate\u001b[0m\u001b[0;34m)\u001b[0m\u001b[0;34m\u001b[0m\u001b[0;34m\u001b[0m\u001b[0m\n\u001b[1;32m     10\u001b[0m \u001b[0;31m#     mesh.coordinates() = mesh.coordinates() + vector_list\u001b[0m\u001b[0;34m\u001b[0m\u001b[0;34m\u001b[0m\u001b[0;34m\u001b[0m\u001b[0m\n",
      "\u001b[0;32m/tmp/ipykernel_944777/1290292541.py\u001b[0m in \u001b[0;36msolve_function\u001b[0;34m(mesh)\u001b[0m\n\u001b[1;32m     26\u001b[0m     \u001b[0;32mfor\u001b[0m \u001b[0m_\u001b[0m \u001b[0;32min\u001b[0m \u001b[0mrange\u001b[0m\u001b[0;34m(\u001b[0m\u001b[0mstep\u001b[0m\u001b[0;34m)\u001b[0m\u001b[0;34m:\u001b[0m\u001b[0;34m\u001b[0m\u001b[0;34m\u001b[0m\u001b[0m\n\u001b[1;32m     27\u001b[0m         \u001b[0mt\u001b[0m \u001b[0;34m+=\u001b[0m \u001b[0mdt\u001b[0m\u001b[0;34m\u001b[0m\u001b[0;34m\u001b[0m\u001b[0m\n\u001b[0;32m---> 28\u001b[0;31m         \u001b[0msolve\u001b[0m\u001b[0;34m(\u001b[0m\u001b[0ma\u001b[0m \u001b[0;34m==\u001b[0m \u001b[0mL\u001b[0m\u001b[0;34m,\u001b[0m \u001b[0mu\u001b[0m\u001b[0;34m,\u001b[0m \u001b[0mbc\u001b[0m\u001b[0;34m)\u001b[0m\u001b[0;34m\u001b[0m\u001b[0;34m\u001b[0m\u001b[0m\n\u001b[0m\u001b[1;32m     29\u001b[0m         \u001b[0mun\u001b[0m\u001b[0;34m.\u001b[0m\u001b[0massign\u001b[0m\u001b[0;34m(\u001b[0m\u001b[0mu\u001b[0m\u001b[0;34m)\u001b[0m\u001b[0;34m\u001b[0m\u001b[0;34m\u001b[0m\u001b[0m\n\u001b[1;32m     30\u001b[0m         \u001b[0mgraphs\u001b[0m\u001b[0;34m.\u001b[0m\u001b[0mappend\u001b[0m\u001b[0;34m(\u001b[0m\u001b[0mto_dgl\u001b[0m\u001b[0;34m(\u001b[0m\u001b[0mfunction\u001b[0m\u001b[0;34m=\u001b[0m\u001b[0mu\u001b[0m\u001b[0;34m,\u001b[0m \u001b[0mmesh\u001b[0m\u001b[0;34m=\u001b[0m\u001b[0mmesh\u001b[0m\u001b[0;34m)\u001b[0m\u001b[0;34m)\u001b[0m\u001b[0;34m\u001b[0m\u001b[0;34m\u001b[0m\u001b[0m\n",
      "\u001b[0;32m~/Miniconda/envs/py9/lib/python3.9/site-packages/dolfin/fem/solving.py\u001b[0m in \u001b[0;36msolve\u001b[0;34m(*args, **kwargs)\u001b[0m\n\u001b[1;32m    218\u001b[0m     \u001b[0;31m# tolerance)\u001b[0m\u001b[0;34m\u001b[0m\u001b[0;34m\u001b[0m\u001b[0;34m\u001b[0m\u001b[0m\n\u001b[1;32m    219\u001b[0m     \u001b[0;32melif\u001b[0m \u001b[0misinstance\u001b[0m\u001b[0;34m(\u001b[0m\u001b[0margs\u001b[0m\u001b[0;34m[\u001b[0m\u001b[0;36m0\u001b[0m\u001b[0;34m]\u001b[0m\u001b[0;34m,\u001b[0m \u001b[0mufl\u001b[0m\u001b[0;34m.\u001b[0m\u001b[0mclasses\u001b[0m\u001b[0;34m.\u001b[0m\u001b[0mEquation\u001b[0m\u001b[0;34m)\u001b[0m\u001b[0;34m:\u001b[0m\u001b[0;34m\u001b[0m\u001b[0;34m\u001b[0m\u001b[0m\n\u001b[0;32m--> 220\u001b[0;31m         \u001b[0m_solve_varproblem\u001b[0m\u001b[0;34m(\u001b[0m\u001b[0;34m*\u001b[0m\u001b[0margs\u001b[0m\u001b[0;34m,\u001b[0m \u001b[0;34m**\u001b[0m\u001b[0mkwargs\u001b[0m\u001b[0;34m)\u001b[0m\u001b[0;34m\u001b[0m\u001b[0;34m\u001b[0m\u001b[0m\n\u001b[0m\u001b[1;32m    221\u001b[0m \u001b[0;34m\u001b[0m\u001b[0m\n\u001b[1;32m    222\u001b[0m     \u001b[0;31m# Default case, just call the wrapped C++ solve function\u001b[0m\u001b[0;34m\u001b[0m\u001b[0;34m\u001b[0m\u001b[0;34m\u001b[0m\u001b[0m\n",
      "\u001b[0;32m~/Miniconda/envs/py9/lib/python3.9/site-packages/dolfin/fem/solving.py\u001b[0m in \u001b[0;36m_solve_varproblem\u001b[0;34m(*args, **kwargs)\u001b[0m\n\u001b[1;32m    239\u001b[0m \u001b[0;34m\u001b[0m\u001b[0m\n\u001b[1;32m    240\u001b[0m         \u001b[0;31m# Create problem\u001b[0m\u001b[0;34m\u001b[0m\u001b[0;34m\u001b[0m\u001b[0;34m\u001b[0m\u001b[0m\n\u001b[0;32m--> 241\u001b[0;31m         problem = LinearVariationalProblem(eq.lhs, eq.rhs, u, bcs,\n\u001b[0m\u001b[1;32m    242\u001b[0m                                            form_compiler_parameters=form_compiler_parameters)\n\u001b[1;32m    243\u001b[0m \u001b[0;34m\u001b[0m\u001b[0m\n",
      "\u001b[0;32m~/Miniconda/envs/py9/lib/python3.9/site-packages/dolfin/fem/problem.py\u001b[0m in \u001b[0;36m__init__\u001b[0;34m(self, a, L, u, bcs, form_compiler_parameters)\u001b[0m\n\u001b[1;32m     53\u001b[0m             \u001b[0mL\u001b[0m \u001b[0;34m=\u001b[0m \u001b[0mcpp\u001b[0m\u001b[0;34m.\u001b[0m\u001b[0mfem\u001b[0m\u001b[0;34m.\u001b[0m\u001b[0mForm\u001b[0m\u001b[0;34m(\u001b[0m\u001b[0;36m1\u001b[0m\u001b[0;34m,\u001b[0m \u001b[0;36m0\u001b[0m\u001b[0;34m)\u001b[0m\u001b[0;34m\u001b[0m\u001b[0;34m\u001b[0m\u001b[0m\n\u001b[1;32m     54\u001b[0m         \u001b[0;32melse\u001b[0m\u001b[0;34m:\u001b[0m\u001b[0;34m\u001b[0m\u001b[0;34m\u001b[0m\u001b[0m\n\u001b[0;32m---> 55\u001b[0;31m             \u001b[0mL\u001b[0m \u001b[0;34m=\u001b[0m \u001b[0mForm\u001b[0m\u001b[0;34m(\u001b[0m\u001b[0mL\u001b[0m\u001b[0;34m,\u001b[0m \u001b[0mform_compiler_parameters\u001b[0m\u001b[0;34m=\u001b[0m\u001b[0mform_compiler_parameters\u001b[0m\u001b[0;34m)\u001b[0m\u001b[0;34m\u001b[0m\u001b[0;34m\u001b[0m\u001b[0m\n\u001b[0m\u001b[1;32m     56\u001b[0m         \u001b[0ma\u001b[0m \u001b[0;34m=\u001b[0m \u001b[0mForm\u001b[0m\u001b[0;34m(\u001b[0m\u001b[0ma\u001b[0m\u001b[0;34m,\u001b[0m \u001b[0mform_compiler_parameters\u001b[0m\u001b[0;34m=\u001b[0m\u001b[0mform_compiler_parameters\u001b[0m\u001b[0;34m)\u001b[0m\u001b[0;34m\u001b[0m\u001b[0;34m\u001b[0m\u001b[0m\n\u001b[1;32m     57\u001b[0m \u001b[0;34m\u001b[0m\u001b[0m\n",
      "\u001b[0;32m~/Miniconda/envs/py9/lib/python3.9/site-packages/dolfin/fem/form.py\u001b[0m in \u001b[0;36m__init__\u001b[0;34m(self, form, **kwargs)\u001b[0m\n\u001b[1;32m     41\u001b[0m             \u001b[0mform_compiler_parameters\u001b[0m \u001b[0;34m=\u001b[0m \u001b[0;34m{\u001b[0m\u001b[0;34m\"external_include_dirs\"\u001b[0m\u001b[0;34m:\u001b[0m \u001b[0mdolfin_pc\u001b[0m\u001b[0;34m[\u001b[0m\u001b[0;34m\"include_dirs\"\u001b[0m\u001b[0;34m]\u001b[0m\u001b[0;34m}\u001b[0m\u001b[0;34m\u001b[0m\u001b[0;34m\u001b[0m\u001b[0m\n\u001b[1;32m     42\u001b[0m \u001b[0;34m\u001b[0m\u001b[0m\n\u001b[0;32m---> 43\u001b[0;31m         ufc_form = ffc_jit(form, form_compiler_parameters=form_compiler_parameters,\n\u001b[0m\u001b[1;32m     44\u001b[0m                            mpi_comm=mesh.mpi_comm())\n\u001b[1;32m     45\u001b[0m         \u001b[0mufc_form\u001b[0m \u001b[0;34m=\u001b[0m \u001b[0mcpp\u001b[0m\u001b[0;34m.\u001b[0m\u001b[0mfem\u001b[0m\u001b[0;34m.\u001b[0m\u001b[0mmake_ufc_form\u001b[0m\u001b[0;34m(\u001b[0m\u001b[0mufc_form\u001b[0m\u001b[0;34m[\u001b[0m\u001b[0;36m0\u001b[0m\u001b[0;34m]\u001b[0m\u001b[0;34m)\u001b[0m\u001b[0;34m\u001b[0m\u001b[0;34m\u001b[0m\u001b[0m\n",
      "\u001b[0;32m~/Miniconda/envs/py9/lib/python3.9/site-packages/dolfin/jit/jit.py\u001b[0m in \u001b[0;36mmpi_jit\u001b[0;34m(*args, **kwargs)\u001b[0m\n\u001b[1;32m     45\u001b[0m         \u001b[0;31m# Just call JIT compiler when running in serial\u001b[0m\u001b[0;34m\u001b[0m\u001b[0;34m\u001b[0m\u001b[0;34m\u001b[0m\u001b[0m\n\u001b[1;32m     46\u001b[0m         \u001b[0;32mif\u001b[0m \u001b[0mMPI\u001b[0m\u001b[0;34m.\u001b[0m\u001b[0msize\u001b[0m\u001b[0;34m(\u001b[0m\u001b[0mmpi_comm\u001b[0m\u001b[0;34m)\u001b[0m \u001b[0;34m==\u001b[0m \u001b[0;36m1\u001b[0m\u001b[0;34m:\u001b[0m\u001b[0;34m\u001b[0m\u001b[0;34m\u001b[0m\u001b[0m\n\u001b[0;32m---> 47\u001b[0;31m             \u001b[0;32mreturn\u001b[0m \u001b[0mlocal_jit\u001b[0m\u001b[0;34m(\u001b[0m\u001b[0;34m*\u001b[0m\u001b[0margs\u001b[0m\u001b[0;34m,\u001b[0m \u001b[0;34m**\u001b[0m\u001b[0mkwargs\u001b[0m\u001b[0;34m)\u001b[0m\u001b[0;34m\u001b[0m\u001b[0;34m\u001b[0m\u001b[0m\n\u001b[0m\u001b[1;32m     48\u001b[0m \u001b[0;34m\u001b[0m\u001b[0m\n\u001b[1;32m     49\u001b[0m         \u001b[0;31m# Default status (0 == ok, 1 == fail)\u001b[0m\u001b[0;34m\u001b[0m\u001b[0;34m\u001b[0m\u001b[0;34m\u001b[0m\u001b[0m\n",
      "\u001b[0;32m~/Miniconda/envs/py9/lib/python3.9/site-packages/dolfin/jit/jit.py\u001b[0m in \u001b[0;36mffc_jit\u001b[0;34m(ufl_form, form_compiler_parameters)\u001b[0m\n\u001b[1;32m     93\u001b[0m     \u001b[0;31m# Prepare form compiler parameters with overrides from dolfin and kwargs\u001b[0m\u001b[0;34m\u001b[0m\u001b[0;34m\u001b[0m\u001b[0;34m\u001b[0m\u001b[0m\n\u001b[1;32m     94\u001b[0m     \u001b[0mp\u001b[0m \u001b[0;34m=\u001b[0m \u001b[0mffc\u001b[0m\u001b[0;34m.\u001b[0m\u001b[0mdefault_jit_parameters\u001b[0m\u001b[0;34m(\u001b[0m\u001b[0;34m)\u001b[0m\u001b[0;34m\u001b[0m\u001b[0;34m\u001b[0m\u001b[0m\n\u001b[0;32m---> 95\u001b[0;31m     \u001b[0mp\u001b[0m\u001b[0;34m.\u001b[0m\u001b[0mupdate\u001b[0m\u001b[0;34m(\u001b[0m\u001b[0mdict\u001b[0m\u001b[0;34m(\u001b[0m\u001b[0mparameters\u001b[0m\u001b[0;34m[\u001b[0m\u001b[0;34m\"form_compiler\"\u001b[0m\u001b[0;34m]\u001b[0m\u001b[0;34m)\u001b[0m\u001b[0;34m)\u001b[0m\u001b[0;34m\u001b[0m\u001b[0;34m\u001b[0m\u001b[0m\n\u001b[0m\u001b[1;32m     96\u001b[0m     \u001b[0mp\u001b[0m\u001b[0;34m.\u001b[0m\u001b[0mupdate\u001b[0m\u001b[0;34m(\u001b[0m\u001b[0mform_compiler_parameters\u001b[0m \u001b[0;32mor\u001b[0m \u001b[0;34m{\u001b[0m\u001b[0;34m}\u001b[0m\u001b[0;34m)\u001b[0m\u001b[0;34m\u001b[0m\u001b[0;34m\u001b[0m\u001b[0m\n\u001b[1;32m     97\u001b[0m     \u001b[0;32mreturn\u001b[0m \u001b[0mffc\u001b[0m\u001b[0;34m.\u001b[0m\u001b[0mjit\u001b[0m\u001b[0;34m(\u001b[0m\u001b[0mufl_form\u001b[0m\u001b[0;34m,\u001b[0m \u001b[0mparameters\u001b[0m\u001b[0;34m=\u001b[0m\u001b[0mp\u001b[0m\u001b[0;34m)\u001b[0m\u001b[0;34m\u001b[0m\u001b[0;34m\u001b[0m\u001b[0m\n",
      "\u001b[0;32m~/Miniconda/envs/py9/lib/python3.9/site-packages/dolfin/parameter/__init__.py\u001b[0m in \u001b[0;36m__getitem__\u001b[0;34m(self, key)\u001b[0m\n\u001b[1;32m     25\u001b[0m         \u001b[0;31m# return np\u001b[0m\u001b[0;34m\u001b[0m\u001b[0;34m\u001b[0m\u001b[0;34m\u001b[0m\u001b[0m\n\u001b[1;32m     26\u001b[0m     \u001b[0;32melse\u001b[0m\u001b[0;34m:\u001b[0m\u001b[0;34m\u001b[0m\u001b[0;34m\u001b[0m\u001b[0m\n\u001b[0;32m---> 27\u001b[0;31m         \u001b[0;32mraise\u001b[0m \u001b[0mRuntimeError\u001b[0m\u001b[0;34m(\u001b[0m\u001b[0;34m\"Invalid parameter: {}\"\u001b[0m\u001b[0;34m.\u001b[0m\u001b[0mformat\u001b[0m\u001b[0;34m(\u001b[0m\u001b[0mkey\u001b[0m\u001b[0;34m)\u001b[0m\u001b[0;34m)\u001b[0m\u001b[0;34m\u001b[0m\u001b[0;34m\u001b[0m\u001b[0m\n\u001b[0m\u001b[1;32m     28\u001b[0m \u001b[0;34m\u001b[0m\u001b[0m\n\u001b[1;32m     29\u001b[0m \u001b[0;34m\u001b[0m\u001b[0m\n",
      "\u001b[0;31mRuntimeError\u001b[0m: Invalid parameter: form_compiler"
     ]
    }
   ],
   "source": [
    "# Epoch Test\n",
    "mesh = generate_mesh(Rectangle(Point(-2, -2), Point(2, 2)), 4)\n",
    "mesh_list = []\n",
    "plot_graph_list = []\n",
    "adaptive_rate = 0.2\n",
    "steps = 60\n",
    "for epoch in range(steps):\n",
    "    graph_list = solve_function(mesh)\n",
    "    vector_list = adaptive_graph(graph_list[epoch], graph_list[epoch+1], adaptive_rate)\n",
    "#     mesh.coordinates() = mesh.coordinates() + vector_list\n",
    "    for i in range(mesh.coordinates().shape[0]):\n",
    "        mesh.coordinates()[i][0] += vector_list[i][0]\n",
    "        mesh.coordinates()[i][1] += vector_list[i][1]\n",
    "    plot_graph_list.append(graph_list[epoch])\n",
    "    mesh_list.append(mesh)\n",
    "    adaptive_rate += 0.2"
   ]
  },
  {
   "cell_type": "code",
   "execution_count": 173,
   "id": "2aed3f1d-4612-40c4-9450-152396a43bbb",
   "metadata": {},
   "outputs": [
    {
     "data": {
      "text/plain": [
       "33"
      ]
     },
     "execution_count": 173,
     "metadata": {},
     "output_type": "execute_result"
    }
   ],
   "source": [
    "len(plot_graph_list)"
   ]
  },
  {
   "cell_type": "code",
   "execution_count": null,
   "id": "fe407e96-8528-46d7-84de-1cdc44228518",
   "metadata": {},
   "outputs": [],
   "source": [
    "for i in range(steps):\n",
    "    plot_graph_original(plot_graph_list[i], vmax=0.9)\n",
    "    plt.savefig(f'../fig/{i}.png')"
   ]
  },
  {
   "cell_type": "code",
   "execution_count": 2,
   "id": "ec75cea5-174f-469e-9b6c-5e3510561414",
   "metadata": {},
   "outputs": [
    {
     "name": "stderr",
     "output_type": "stream",
     "text": [
      "100%|███████████████████████████████████████████| 33/33 [00:00<00:00, 34.75it/s]\n"
     ]
    }
   ],
   "source": [
    "gif_generator('../fig/gaussian_center/', '../fig/gaussian_center.gif')"
   ]
  },
  {
   "cell_type": "code",
   "execution_count": 68,
   "id": "db559b48-6d42-4c38-8ecd-3192db070f49",
   "metadata": {},
   "outputs": [
    {
     "ename": "RuntimeError",
     "evalue": "Invalid parameter: form_compiler",
     "output_type": "error",
     "traceback": [
      "\u001b[0;31m---------------------------------------------------------------------------\u001b[0m",
      "\u001b[0;31mRuntimeError\u001b[0m                              Traceback (most recent call last)",
      "\u001b[0;32m/tmp/ipykernel_943138/3741248834.py\u001b[0m in \u001b[0;36m<module>\u001b[0;34m\u001b[0m\n\u001b[1;32m      5\u001b[0m \u001b[0mstep\u001b[0m \u001b[0;34m=\u001b[0m \u001b[0;36m60\u001b[0m\u001b[0;34m\u001b[0m\u001b[0;34m\u001b[0m\u001b[0m\n\u001b[1;32m      6\u001b[0m \u001b[0mdt\u001b[0m \u001b[0;34m=\u001b[0m \u001b[0mstop\u001b[0m\u001b[0;34m/\u001b[0m\u001b[0mstep\u001b[0m\u001b[0;34m\u001b[0m\u001b[0;34m\u001b[0m\u001b[0m\n\u001b[0;32m----> 7\u001b[0;31m \u001b[0mfunction_space\u001b[0m \u001b[0;34m=\u001b[0m \u001b[0mFunctionSpace\u001b[0m\u001b[0;34m(\u001b[0m\u001b[0mmesh\u001b[0m\u001b[0;34m,\u001b[0m \u001b[0;34m'P'\u001b[0m\u001b[0;34m,\u001b[0m \u001b[0;36m1\u001b[0m\u001b[0;34m)\u001b[0m\u001b[0;34m\u001b[0m\u001b[0;34m\u001b[0m\u001b[0m\n\u001b[0m\u001b[1;32m      8\u001b[0m \u001b[0;34m\u001b[0m\u001b[0m\n\u001b[1;32m      9\u001b[0m \u001b[0mu0\u001b[0m \u001b[0;34m=\u001b[0m \u001b[0mExpression\u001b[0m\u001b[0;34m(\u001b[0m\u001b[0;34m'0'\u001b[0m\u001b[0;34m,\u001b[0m \u001b[0mdegree\u001b[0m\u001b[0;34m=\u001b[0m\u001b[0;36m2\u001b[0m\u001b[0;34m)\u001b[0m\u001b[0;34m\u001b[0m\u001b[0;34m\u001b[0m\u001b[0m\n",
      "\u001b[0;32m~/Miniconda/envs/py9/lib/python3.9/site-packages/dolfin/function/functionspace.py\u001b[0m in \u001b[0;36m__init__\u001b[0;34m(self, *args, **kwargs)\u001b[0m\n\u001b[1;32m     31\u001b[0m                 \u001b[0mself\u001b[0m\u001b[0;34m.\u001b[0m\u001b[0m_init_from_ufl\u001b[0m\u001b[0;34m(\u001b[0m\u001b[0;34m*\u001b[0m\u001b[0margs\u001b[0m\u001b[0;34m,\u001b[0m \u001b[0;34m**\u001b[0m\u001b[0mkwargs\u001b[0m\u001b[0;34m)\u001b[0m\u001b[0;34m\u001b[0m\u001b[0;34m\u001b[0m\u001b[0m\n\u001b[1;32m     32\u001b[0m             \u001b[0;32melse\u001b[0m\u001b[0;34m:\u001b[0m\u001b[0;34m\u001b[0m\u001b[0;34m\u001b[0m\u001b[0m\n\u001b[0;32m---> 33\u001b[0;31m                 \u001b[0mself\u001b[0m\u001b[0;34m.\u001b[0m\u001b[0m_init_convenience\u001b[0m\u001b[0;34m(\u001b[0m\u001b[0;34m*\u001b[0m\u001b[0margs\u001b[0m\u001b[0;34m,\u001b[0m \u001b[0;34m**\u001b[0m\u001b[0mkwargs\u001b[0m\u001b[0;34m)\u001b[0m\u001b[0;34m\u001b[0m\u001b[0;34m\u001b[0m\u001b[0m\n\u001b[0m\u001b[1;32m     34\u001b[0m \u001b[0;34m\u001b[0m\u001b[0m\n\u001b[1;32m     35\u001b[0m     \u001b[0;32mdef\u001b[0m \u001b[0m_init_from_ufl\u001b[0m\u001b[0;34m(\u001b[0m\u001b[0mself\u001b[0m\u001b[0;34m,\u001b[0m \u001b[0mmesh\u001b[0m\u001b[0;34m,\u001b[0m \u001b[0melement\u001b[0m\u001b[0;34m,\u001b[0m \u001b[0mconstrained_domain\u001b[0m\u001b[0;34m=\u001b[0m\u001b[0;32mNone\u001b[0m\u001b[0;34m)\u001b[0m\u001b[0;34m:\u001b[0m\u001b[0;34m\u001b[0m\u001b[0;34m\u001b[0m\u001b[0m\n",
      "\u001b[0;32m~/Miniconda/envs/py9/lib/python3.9/site-packages/dolfin/function/functionspace.py\u001b[0m in \u001b[0;36m_init_convenience\u001b[0;34m(self, mesh, family, degree, form_degree, constrained_domain, restriction)\u001b[0m\n\u001b[1;32m     98\u001b[0m                                     form_degree=form_degree)\n\u001b[1;32m     99\u001b[0m \u001b[0;34m\u001b[0m\u001b[0m\n\u001b[0;32m--> 100\u001b[0;31m         \u001b[0mself\u001b[0m\u001b[0;34m.\u001b[0m\u001b[0m_init_from_ufl\u001b[0m\u001b[0;34m(\u001b[0m\u001b[0mmesh\u001b[0m\u001b[0;34m,\u001b[0m \u001b[0melement\u001b[0m\u001b[0;34m,\u001b[0m \u001b[0mconstrained_domain\u001b[0m\u001b[0;34m=\u001b[0m\u001b[0mconstrained_domain\u001b[0m\u001b[0;34m)\u001b[0m\u001b[0;34m\u001b[0m\u001b[0;34m\u001b[0m\u001b[0m\n\u001b[0m\u001b[1;32m    101\u001b[0m \u001b[0;34m\u001b[0m\u001b[0m\n\u001b[1;32m    102\u001b[0m     \u001b[0;32mdef\u001b[0m \u001b[0mdolfin_element\u001b[0m\u001b[0;34m(\u001b[0m\u001b[0mself\u001b[0m\u001b[0;34m)\u001b[0m\u001b[0;34m:\u001b[0m\u001b[0;34m\u001b[0m\u001b[0;34m\u001b[0m\u001b[0m\n",
      "\u001b[0;32m~/Miniconda/envs/py9/lib/python3.9/site-packages/dolfin/function/functionspace.py\u001b[0m in \u001b[0;36m_init_from_ufl\u001b[0;34m(self, mesh, element, constrained_domain)\u001b[0m\n\u001b[1;32m     40\u001b[0m \u001b[0;34m\u001b[0m\u001b[0m\n\u001b[1;32m     41\u001b[0m         \u001b[0;31m# Compile dofmap and element\u001b[0m\u001b[0;34m\u001b[0m\u001b[0;34m\u001b[0m\u001b[0;34m\u001b[0m\u001b[0m\n\u001b[0;32m---> 42\u001b[0;31m         ufc_element, ufc_dofmap = ffc_jit(element, form_compiler_parameters=None,\n\u001b[0m\u001b[1;32m     43\u001b[0m                                           mpi_comm=mesh.mpi_comm())\n\u001b[1;32m     44\u001b[0m         \u001b[0mufc_element\u001b[0m \u001b[0;34m=\u001b[0m \u001b[0mcpp\u001b[0m\u001b[0;34m.\u001b[0m\u001b[0mfem\u001b[0m\u001b[0;34m.\u001b[0m\u001b[0mmake_ufc_finite_element\u001b[0m\u001b[0;34m(\u001b[0m\u001b[0mufc_element\u001b[0m\u001b[0;34m)\u001b[0m\u001b[0;34m\u001b[0m\u001b[0;34m\u001b[0m\u001b[0m\n",
      "\u001b[0;32m~/Miniconda/envs/py9/lib/python3.9/site-packages/dolfin/jit/jit.py\u001b[0m in \u001b[0;36mmpi_jit\u001b[0;34m(*args, **kwargs)\u001b[0m\n\u001b[1;32m     45\u001b[0m         \u001b[0;31m# Just call JIT compiler when running in serial\u001b[0m\u001b[0;34m\u001b[0m\u001b[0;34m\u001b[0m\u001b[0;34m\u001b[0m\u001b[0m\n\u001b[1;32m     46\u001b[0m         \u001b[0;32mif\u001b[0m \u001b[0mMPI\u001b[0m\u001b[0;34m.\u001b[0m\u001b[0msize\u001b[0m\u001b[0;34m(\u001b[0m\u001b[0mmpi_comm\u001b[0m\u001b[0;34m)\u001b[0m \u001b[0;34m==\u001b[0m \u001b[0;36m1\u001b[0m\u001b[0;34m:\u001b[0m\u001b[0;34m\u001b[0m\u001b[0;34m\u001b[0m\u001b[0m\n\u001b[0;32m---> 47\u001b[0;31m             \u001b[0;32mreturn\u001b[0m \u001b[0mlocal_jit\u001b[0m\u001b[0;34m(\u001b[0m\u001b[0;34m*\u001b[0m\u001b[0margs\u001b[0m\u001b[0;34m,\u001b[0m \u001b[0;34m**\u001b[0m\u001b[0mkwargs\u001b[0m\u001b[0;34m)\u001b[0m\u001b[0;34m\u001b[0m\u001b[0;34m\u001b[0m\u001b[0m\n\u001b[0m\u001b[1;32m     48\u001b[0m \u001b[0;34m\u001b[0m\u001b[0m\n\u001b[1;32m     49\u001b[0m         \u001b[0;31m# Default status (0 == ok, 1 == fail)\u001b[0m\u001b[0;34m\u001b[0m\u001b[0;34m\u001b[0m\u001b[0;34m\u001b[0m\u001b[0m\n",
      "\u001b[0;32m~/Miniconda/envs/py9/lib/python3.9/site-packages/dolfin/jit/jit.py\u001b[0m in \u001b[0;36mffc_jit\u001b[0;34m(ufl_form, form_compiler_parameters)\u001b[0m\n\u001b[1;32m     93\u001b[0m     \u001b[0;31m# Prepare form compiler parameters with overrides from dolfin and kwargs\u001b[0m\u001b[0;34m\u001b[0m\u001b[0;34m\u001b[0m\u001b[0;34m\u001b[0m\u001b[0m\n\u001b[1;32m     94\u001b[0m     \u001b[0mp\u001b[0m \u001b[0;34m=\u001b[0m \u001b[0mffc\u001b[0m\u001b[0;34m.\u001b[0m\u001b[0mdefault_jit_parameters\u001b[0m\u001b[0;34m(\u001b[0m\u001b[0;34m)\u001b[0m\u001b[0;34m\u001b[0m\u001b[0;34m\u001b[0m\u001b[0m\n\u001b[0;32m---> 95\u001b[0;31m     \u001b[0mp\u001b[0m\u001b[0;34m.\u001b[0m\u001b[0mupdate\u001b[0m\u001b[0;34m(\u001b[0m\u001b[0mdict\u001b[0m\u001b[0;34m(\u001b[0m\u001b[0mparameters\u001b[0m\u001b[0;34m[\u001b[0m\u001b[0;34m\"form_compiler\"\u001b[0m\u001b[0;34m]\u001b[0m\u001b[0;34m)\u001b[0m\u001b[0;34m)\u001b[0m\u001b[0;34m\u001b[0m\u001b[0;34m\u001b[0m\u001b[0m\n\u001b[0m\u001b[1;32m     96\u001b[0m     \u001b[0mp\u001b[0m\u001b[0;34m.\u001b[0m\u001b[0mupdate\u001b[0m\u001b[0;34m(\u001b[0m\u001b[0mform_compiler_parameters\u001b[0m \u001b[0;32mor\u001b[0m \u001b[0;34m{\u001b[0m\u001b[0;34m}\u001b[0m\u001b[0;34m)\u001b[0m\u001b[0;34m\u001b[0m\u001b[0;34m\u001b[0m\u001b[0m\n\u001b[1;32m     97\u001b[0m     \u001b[0;32mreturn\u001b[0m \u001b[0mffc\u001b[0m\u001b[0;34m.\u001b[0m\u001b[0mjit\u001b[0m\u001b[0;34m(\u001b[0m\u001b[0mufl_form\u001b[0m\u001b[0;34m,\u001b[0m \u001b[0mparameters\u001b[0m\u001b[0;34m=\u001b[0m\u001b[0mp\u001b[0m\u001b[0;34m)\u001b[0m\u001b[0;34m\u001b[0m\u001b[0;34m\u001b[0m\u001b[0m\n",
      "\u001b[0;32m~/Miniconda/envs/py9/lib/python3.9/site-packages/dolfin/parameter/__init__.py\u001b[0m in \u001b[0;36m__getitem__\u001b[0;34m(self, key)\u001b[0m\n\u001b[1;32m     25\u001b[0m         \u001b[0;31m# return np\u001b[0m\u001b[0;34m\u001b[0m\u001b[0;34m\u001b[0m\u001b[0;34m\u001b[0m\u001b[0m\n\u001b[1;32m     26\u001b[0m     \u001b[0;32melse\u001b[0m\u001b[0;34m:\u001b[0m\u001b[0;34m\u001b[0m\u001b[0;34m\u001b[0m\u001b[0m\n\u001b[0;32m---> 27\u001b[0;31m         \u001b[0;32mraise\u001b[0m \u001b[0mRuntimeError\u001b[0m\u001b[0;34m(\u001b[0m\u001b[0;34m\"Invalid parameter: {}\"\u001b[0m\u001b[0;34m.\u001b[0m\u001b[0mformat\u001b[0m\u001b[0;34m(\u001b[0m\u001b[0mkey\u001b[0m\u001b[0;34m)\u001b[0m\u001b[0;34m)\u001b[0m\u001b[0;34m\u001b[0m\u001b[0;34m\u001b[0m\u001b[0m\n\u001b[0m\u001b[1;32m     28\u001b[0m \u001b[0;34m\u001b[0m\u001b[0m\n\u001b[1;32m     29\u001b[0m \u001b[0;34m\u001b[0m\u001b[0m\n",
      "\u001b[0;31mRuntimeError\u001b[0m: Invalid parameter: form_compiler"
     ]
    }
   ],
   "source": [
    "mesh = generate_mesh(Rectangle(Point(-2, -2), Point(2, 2)), 4)\n",
    "\n",
    "start = 0\n",
    "stop = 1\n",
    "step = 60\n",
    "dt = stop/step\n",
    "function_space = FunctionSpace(mesh, 'P', 1)\n",
    "\n",
    "u0 = Expression('0', degree=2)\n",
    "ud = Expression('0', degree=2)\n",
    "f = Expression('0', degree=2)\n",
    "\n",
    "def boundary(x, on_boundary):\n",
    "    return on_boundary\n",
    "\n",
    "bc = DirichletBC(function_space, ud, boundary)\n",
    "un = interpolate(u0, function_space)\n",
    "\n",
    "u = TrialFunction(function_space)\n",
    "v = TestFunction(function_space)\n",
    "F = u * v * dx + dt * dot(grad(u), grad(v)) * dx - (un + dt * f) * v * dx\n",
    "a, L = lhs(F), rhs(F)\n",
    "\n",
    "u = Function(function_space)\n",
    "t = 0\n",
    "graphs = []\n",
    "for _ in range(step):\n",
    "    t += dt\n",
    "    solve(a == L, u, bc)\n",
    "    un.assign(u)\n",
    "    graphs.append(to_dgl(function=u, mesh=mesh))"
   ]
  },
  {
   "cell_type": "markdown",
   "id": "681016e2",
   "metadata": {
    "jp-MarkdownHeadingCollapsed": true,
    "tags": []
   },
   "source": [
    "# Trash Bin"
   ]
  },
  {
   "cell_type": "code",
   "execution_count": 98,
   "id": "062b0cfd-ef6e-4bfd-a2f8-8b1225e9fe1b",
   "metadata": {},
   "outputs": [],
   "source": [
    "update_vector = adapive_graph(graphs[0], graphs[1])\n",
    "for i in range(mesh.coordinates().shape[0]):\n",
    "    mesh.coordinates()[i][0] += update_vector[i][0]\n",
    "    mesh.coordinates()[i][1] += update_vector[i][1]"
   ]
  },
  {
   "cell_type": "code",
   "execution_count": 95,
   "id": "fac40912-8acd-44fc-af29-e22f6bcb282c",
   "metadata": {},
   "outputs": [
    {
     "name": "stdout",
     "output_type": "stream",
     "text": [
      "Solving linear variational problem.\n",
      "Solving linear variational problem.\n"
     ]
    },
    {
     "name": "stderr",
     "output_type": "stream",
     "text": [
      "/home/cbhua/.local/lib/python3.9/site-packages/dgl/base.py:45: DGLWarning: Recommend creating graphs by `dgl.graph(data)` instead of `dgl.DGLGraph(data)`.\n",
      "  return warnings.warn(message, category=category, stacklevel=1)\n"
     ]
    }
   ],
   "source": [
    "start = 0\n",
    "stop = 1\n",
    "step = 2\n",
    "dt = stop/step\n",
    "mesh = generate_mesh(Rectangle(Point(-2, -2), Point(2, 2)), 4)\n",
    "function_space = FunctionSpace(mesh, 'P', 1)\n",
    "\n",
    "u0 = Expression('exp(-1*pow(x[0],2)-1*pow(x[1],2))', degree=2)\n",
    "ud = Expression('0', degree=2)\n",
    "f = Expression('0', degree=2)\n",
    "\n",
    "def boundary(x, on_boundary):\n",
    "    return on_boundary\n",
    "\n",
    "bc = DirichletBC(function_space, ud, boundary)\n",
    "un = interpolate(u0, function_space)\n",
    "\n",
    "u = TrialFunction(function_space)\n",
    "v = TestFunction(function_space)\n",
    "F = u * v * dx + dt * dot(grad(u), grad(v)) * dx - (un + dt * f) * v * dx\n",
    "a, L = lhs(F), rhs(F)\n",
    "\n",
    "u = Function(function_space)\n",
    "t = 0\n",
    "graphs = []\n",
    "for _ in range(step):\n",
    "    t += dt\n",
    "    solve(a == L, u, bc)\n",
    "    un.assign(u)\n",
    "    graphs.append(to_dgl(function=u, mesh=mesh))"
   ]
  },
  {
   "cell_type": "code",
   "execution_count": 23,
   "id": "a92b8ea9-e2b0-43ec-8243-6536321fc4d5",
   "metadata": {},
   "outputs": [
    {
     "name": "stdout",
     "output_type": "stream",
     "text": [
      "<class 'numpy.ndarray'>\n",
      "(16, 2)\n"
     ]
    },
    {
     "data": {
      "text/plain": [
       "[<matplotlib.lines.Line2D at 0x7ff875664eb0>,\n",
       " <matplotlib.lines.Line2D at 0x7ff875664ee0>]"
      ]
     },
     "execution_count": 23,
     "metadata": {},
     "output_type": "execute_result"
    },
    {
     "data": {
      "image/png": "[encoded data removed]",
      "text/plain": [
       "<Figure size 432x288 with 1 Axes>"
      ]
     },
     "metadata": {
      "needs_background": "light"
     },
     "output_type": "display_data"
    }
   ],
   "source": [
    "# DGL Graph to FEniCS Mesh\n",
    "mesh_test = UnitSquareMesh(3, 3)\n",
    "print(type(mesh_test.coordinates()))\n",
    "print(mesh_test.coordinates().shape)\n",
    "mesh_test.coordinates()[0, 0] += 0.1\n",
    "plot(mesh_test)"
   ]
  },
  {
   "cell_type": "code",
   "execution_count": 39,
   "id": "ccec15b9",
   "metadata": {},
   "outputs": [],
   "source": [
    "graph1 = graph_list[0].clone()\n",
    "graph2 = graph_list[1].clone()\n",
    "update_graph = graph1.clone()\n",
    "update_graph.ndata['value'] = abs(graph2.ndata['value'] - graph1.ndata['value'])\n",
    "update_rate = 5\n",
    "\n",
    "mark_boundary(update_graph)\n",
    "dist_threshold = 1e-1\n",
    "\n",
    "vector_list = []\n",
    "for i in range(update_graph.number_of_nodes()):\n",
    "    if update_graph.ndata['is_bdd'][i] > 0.5: \n",
    "        vector = torch.tensor([0, 0], dtype=torch.float)\n",
    "        vector_list.append(vector)\n",
    "        continue # Boundary Nodes\n",
    "    \n",
    "    coords_src = update_graph.ndata['coords'][i]\n",
    "    vector = torch.tensor([0, 0], dtype=torch.float)\n",
    "    _, neighbors = update_graph.out_edges([i])\n",
    "    \n",
    "    for j in neighbors:\n",
    "        if update_graph.ndata['value'][j][0] < update_graph.ndata['value'][i][0]:\n",
    "            continue # Update Smaller Than Src Node\n",
    "        coords_dst = update_graph.ndata['coords'][j]\n",
    "        dist = torch.sqrt((coords_dst[0] - coords_src[0]) ** 2 + (coords_dst[1] - coords_src[1]) ** 2)\n",
    "        if dist < dist_threshold:\n",
    "            continue # Two Nodes Too Close\n",
    "        diff = update_graph.ndata['value'][j][0] - update_graph.ndata['value'][i][0]\n",
    "        update_x = update_rate * (coords_dst[0] - coords_src[0]) * diff / dist\n",
    "        update_y = update_rate * (coords_dst[1] - coords_src[1]) * diff / dist\n",
    "        vector[0] += update_x\n",
    "        vector[1] += update_y\n",
    "\n",
    "    vector_list.append(vector)\n",
    "\n",
    "for i in range(graph2.number_of_nodes()):\n",
    "    if update_graph.ndata['is_bdd'][i] > 0.5: \n",
    "        continue # Boundary Nodes\n",
    "    graph2.ndata['coords'][i][0] += vector_list[i][0]\n",
    "    graph2.ndata['coords'][i][1] += vector_list[i][1]"
   ]
  },
  {
   "cell_type": "code",
   "execution_count": 87,
   "id": "aec4482a-2255-4e51-ae85-e6fe02835cc3",
   "metadata": {},
   "outputs": [
    {
     "name": "stdout",
     "output_type": "stream",
     "text": [
      "<class 'dolfin.cpp.mesh.Mesh'>\n",
      "<class 'dolfin.cpp.mesh.Mesh'>\n"
     ]
    }
   ],
   "source": [
    "mesh = generate_mesh(Rectangle(Point(-2, -2), Point(2, 2)), 4)\n",
    "print(type(mesh))\n",
    "function_space = FunctionSpace(mesh, 'P', 1)\n",
    "print(type(mesh))"
   ]
  },
  {
   "cell_type": "code",
   "execution_count": 91,
   "id": "2f7ea756-32cb-49c1-a95b-42c9d1e019e9",
   "metadata": {},
   "outputs": [
    {
     "data": {
      "text/plain": [
       "array([-2.,  2.])"
      ]
     },
     "execution_count": 91,
     "metadata": {},
     "output_type": "execute_result"
    }
   ],
   "source": [
    "mesh.coordinates()[0]"
   ]
  },
  {
   "cell_type": "code",
   "execution_count": 20,
   "id": "492b84bf-ca19-477f-a431-796a06011d63",
   "metadata": {},
   "outputs": [
    {
     "name": "stdout",
     "output_type": "stream",
     "text": [
      "<class 'list'>\n",
      "2\n",
      "<class 'dgl.heterograph.DGLHeteroGraph'>\n",
      "-2.0\n",
      "Graph(num_nodes=35, num_edges=172,\n",
      "      ndata_schemes={'x': Scheme(shape=(), dtype=torch.float32), 'y': Scheme(shape=(), dtype=torch.float32), 'value': Scheme(shape=(), dtype=torch.float32), 'is_bdd': Scheme(shape=(1,), dtype=torch.float32)}\n",
      "      edata_schemes={})\n"
     ]
    }
   ],
   "source": [
    "print(type(graphs))\n",
    "print(len(graphs))\n",
    "print(type(graphs[0]))\n",
    "mark_boundary_original(graphs[0])\n",
    "print(graphs[0])"
   ]
  },
  {
   "cell_type": "code",
   "execution_count": 33,
   "id": "51ee5507-08ce-4a88-8234-4e60b72fc96e",
   "metadata": {},
   "outputs": [
    {
     "data": {
      "text/plain": [
       "[<matplotlib.lines.Line2D at 0x7f9e4cc79550>]"
      ]
     },
     "execution_count": 33,
     "metadata": {},
     "output_type": "execute_result"
    },
    {
     "data": {
      "image/png": "[encoded data removed]",
      "text/plain": [
       "<Figure size 432x288 with 1 Axes>"
      ]
     },
     "metadata": {
      "needs_background": "light"
     },
     "output_type": "display_data"
    }
   ],
   "source": [
    "nodes = np.array([[0., 0.],\n",
    "                  [1., 0.],\n",
    "                  [0., 1.],\n",
    "                  [1., 1.]])\n",
    "cells = np.array([[0,3]], dtype=np.uintp)\n",
    "\n",
    "mesh = Mesh()\n",
    "editor = MeshEditor()\n",
    "# editor.open(mesh, 'triangle', 2, 2) # (mesh, topological dim, geometrical dim)\n",
    "editor.open(mesh, 'interval', 1, 2) \n",
    "editor.init_vertices(4)\n",
    "editor.init_cells(1)\n",
    "\n",
    "[editor.add_vertex(i, n) for i, n in enumerate(nodes)]\n",
    "[editor.add_cell(i, n) for i, n in enumerate(cells)]\n",
    "editor.close()\n",
    "\n",
    "plot(mesh)"
   ]
  },
  {
   "cell_type": "code",
   "execution_count": 32,
   "id": "9cf1b633",
   "metadata": {},
   "outputs": [
    {
     "name": "stdout",
     "output_type": "stream",
     "text": [
      "tensor([1., 1., 1., 1., 1., 1., 1., 1., 0., 1., 1., 1., 1., 1., 1., 1., 1., 0.,\n",
      "        0., 0., 0., 0., 0., 0., 0., 0., 0., 0., 0., 0., 0., 0., 0., 0., 0., 0.,\n",
      "        0., 0., 0., 0., 0., 0., 1., 1., 1., 1., 0., 0., 0.],\n",
      "       dtype=torch.float64)\n",
      "tensor([1., 1., 1., 1., 1., 1., 1., 1., 0., 1., 1., 1., 1., 1., 1., 1., 1., 0.,\n",
      "        0., 0., 0., 0., 0., 0., 0., 0., 0., 0., 0., 0., 0., 0., 0., 0., 0., 0.,\n",
      "        0., 0., 0., 0., 0., 0., 1., 1., 1., 1., 0., 0., 0.],\n",
      "       dtype=torch.float64)\n"
     ]
    }
   ],
   "source": [
    "print(graph.ndata['is_bdd'])\n",
    "mark_boundary(graph)\n",
    "print(graph.ndata['is_bdd'])"
   ]
  },
  {
   "cell_type": "code",
   "execution_count": null,
   "id": "a3789147",
   "metadata": {},
   "outputs": [],
   "source": [
    "graph1 = graph_list[0]\n",
    "graph2 = graph_list[1]\n",
    "\n",
    "mark_boundary(graph1)\n",
    "mark_boundary(graph2)\n",
    "\n",
    "for i in range(graph1.number_of_nodes()):\n",
    "    # Boundary nodes\n",
    "    if graph1.ndata['is_bdd'][i] > 0.5:\n",
    "        continue\n",
    "    \n",
    "    coords = graph1.ndata['coords'][i]\n",
    "    vector = [0, 0]\n",
    "    neighbors = graph.out_edges([i])\n",
    "    \n",
    "    for j in range(neighbors):\n",
    "        pass"
   ]
  }
 ],
 "metadata": {
  "kernelspec": {
   "display_name": "conda-py9",
   "language": "python",
   "name": "conda-py9"
  },
  "language_info": {
   "codemirror_mode": {
    "name": "ipython",
    "version": 3
   },
   "file_extension": ".py",
   "mimetype": "text/x-python",
   "name": "python",
   "nbconvert_exporter": "python",
   "pygments_lexer": "ipython3",
   "version": "3.9.6"
  }
 },
 "nbformat": 4,
 "nbformat_minor": 5
}
